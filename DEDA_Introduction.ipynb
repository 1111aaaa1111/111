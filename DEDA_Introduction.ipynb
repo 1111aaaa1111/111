{
 "cells": [
  {
   "cell_type": "markdown",
   "metadata": {
    "id": "uSOVgI3agXXf"
   },
   "source": [
    "# **DEDA Unit1** : Python Installation, IDE and Basic Syntax"
   ]
  },
  {
   "cell_type": "markdown",
   "metadata": {
    "id": "8YSZ1zy9gfmg"
   },
   "source": [
    "### **Numerics**"
   ]
  },
  {
   "cell_type": "code",
   "execution_count": null,
   "metadata": {
    "colab": {
     "base_uri": "https://localhost:8080/"
    },
    "id": "4u9Rt_FJgdj6",
    "outputId": "4d072cb0-42a9-4858-aaf5-a6cdf2bb46e3"
   },
   "outputs": [],
   "source": [
    "\"\"\"  \n",
    "This is a multi-line comment block. It is set in-between six quotation marks.\n",
    "Python provides a straight way for numerical operations.\n",
    "Try the basics:\n",
    "+, -, *, /, %, **, // \n",
    "\"\"\"\n",
    "# This is a one-line comment in Python. It extends to the end of the physical line.\n",
    "\n",
    "a = 5  # initiates integer variable a which the value 5 is assigned to\n",
    "print(a)\n",
    "b = 3  # another integer variable b which the value 3 is assigned to\n",
    "print(b)\n",
    "b = 5  # the old value of b is overwritten by 5\n",
    "print(b)\n",
    "a, b = 7, 3  # initialising two variables at once: a takes the value  7; b takes 3\n",
    "print(a,b)\n",
    "a += 1  # short for a = a+1 so again a new value is assigned to a\n",
    "print(a)"
   ]
  },
  {
   "cell_type": "markdown",
   "metadata": {
    "id": "QKBVmliIg-ri"
   },
   "source": [
    "### **Functions**"
   ]
  },
  {
   "cell_type": "code",
   "execution_count": null,
   "metadata": {
    "colab": {
     "base_uri": "https://localhost:8080/"
    },
    "id": "rWJRG103g1GM",
    "outputId": "d22b356f-3c84-4fea-f468-201d8879c4be"
   },
   "outputs": [],
   "source": [
    "\"\"\"  \n",
    "Python provides versatile set of functions for variables.\n",
    "\"\"\"\n",
    "\n",
    "print(a)  # the fct. print() prints out the value of a; the output is 8\n",
    "print(b)\n",
    "c = round(a / b)  # the fct. round() rounds 8/3 and assigns the output to c\n",
    "print(c)\n",
    "# Function can also take arguments, which allow us further specifications.\n",
    "c = round(a / b, ndigits=4)  # ndigits specifies the number of decimal places\n",
    "print(c)  # output is 2.6667\n",
    "c = round(a / b, 3)  # arguments do not need to be spelled out, if placed correctly\n",
    "print(c)  # output is 2.667"
   ]
  },
  {
   "cell_type": "markdown",
   "metadata": {
    "id": "cV0r_Wc8hkor"
   },
   "source": [
    "### **Strings**"
   ]
  },
  {
   "cell_type": "code",
   "execution_count": null,
   "metadata": {
    "colab": {
     "base_uri": "https://localhost:8080/"
    },
    "id": "4z7LRX4-h40d",
    "outputId": "92f15311-6bf3-47d3-8681-4453571eb957"
   },
   "outputs": [],
   "source": [
    "\"\"\" \n",
    "String is a basic type in python, it's commonly used and very powerful.\n",
    "\"\"\"\n",
    "\n",
    "w = 'Hello'  # initiates string variables by single quotation marks\n",
    "x = \"World\"  # … or by double quotation marks\n",
    "print(w + x)  # HelloWorld\n",
    "\n",
    "y = '20'  # numbers can also be assigned as strings too\n",
    "e = '10'\n",
    "print(y + e)  # concatenates strings so output is ‘2010’\n",
    "\n",
    "f = int(y) + int(e)  # the fct. int() converts strings to integers, f is 30 now\n",
    "print(f)\n",
    "\n",
    "# formatting strings\n",
    "# using f '….'  string, you can write variable names inside the brackets {}, directly.\n",
    "greeting = f'{w} Python-{x}.'  # Hello Python-World.\n",
    "print(greeting)\n",
    "greeting = f'{w} {x.upper()}.'  # Hello WORLD.\n",
    "print(greeting)\n"
   ]
  },
  {
   "cell_type": "markdown",
   "metadata": {
    "id": "f1ldDlW9iMXg"
   },
   "source": [
    "### **Comparison**"
   ]
  },
  {
   "cell_type": "code",
   "execution_count": null,
   "metadata": {
    "colab": {
     "base_uri": "https://localhost:8080/"
    },
    "id": "mOeP5-g-iRxd",
    "outputId": "5a04d8be-0c04-436f-abba-7acd1e9cba96"
   },
   "outputs": [],
   "source": [
    "\"\"\"\n",
    "Python provides a straight way for numerical operations. Try comparison operations ==,<,<=,>,>=,!=\n",
    "\"\"\"\n",
    "\n",
    "a = 5\n",
    "print(a == 5)  # checks if a equals 5; output will be True\n",
    "print(a != 7)  # checks if a is not equal to 7; output will be False\n",
    "\n",
    "print(a <= 7)  # checks if a is smaller or equal 7; output will be True\n",
    "print(a > 5)  # False\n",
    "\n",
    "a = 'A'  # old integer value of a (which is 7) is overwritten by string value ‘A’\n",
    "b = 'B'  # old integer value of b (which is 3) is overwritten by string value ‘B’\n",
    "print(a == b)  # False\n",
    "print(a != b)  # True"
   ]
  },
  {
   "cell_type": "markdown",
   "metadata": {
    "id": "43Wi2qMXjAja"
   },
   "source": [
    "### **Lists**"
   ]
  },
  {
   "cell_type": "code",
   "execution_count": null,
   "metadata": {
    "colab": {
     "base_uri": "https://localhost:8080/"
    },
    "id": "nNIFWWRYjJix",
    "outputId": "5fbdb94c-d5d5-4d03-ff14-c3c45f5a2ab4"
   },
   "outputs": [],
   "source": [
    "\"\"\"\n",
    "List is a versatile Python data type to group values.\n",
    "In Python a list is created by placing all the items inside square brackets [] , separated by commas.\n",
    "\"\"\"\n",
    "\n",
    "my_list = []  # initiates an empty list, which we choose to call “my_list”\n",
    "my_list = [2, 3, 5, 7, 11]  # adds elements to the list\n",
    "print(my_list)  # output: [2, 3, 5, 7, 11]\n",
    "\n",
    "# indexing\n",
    "print(my_list[0])  # the first element of my_list is called, which is 2\n",
    "print(my_list[-1])  # the last element of my_list is called, which is 11\n",
    "\n",
    "# slicing\n",
    "print(my_list[:2])  # calls the first two elements of my_list [2, 3]\n",
    "print(my_list[-3:])  # calls the last three elements [5, 7, 11]\n",
    "\n",
    "# appending\n",
    "my_list.append(13)  # [2, 3, 5, 7, 11, 13]\n",
    "print(my_list)\n",
    "my_list.extend([17, 19])  # [2, 3, 5, 7, 11, 13, 17, 19]\n",
    "print(my_list)"
   ]
  },
  {
   "cell_type": "code",
   "execution_count": null,
   "metadata": {
    "colab": {
     "base_uri": "https://localhost:8080/"
    },
    "id": "ATz6h6RsjfgA",
    "outputId": "45b9afdd-0bfe-4b22-9048-bb76ca04298f"
   },
   "outputs": [],
   "source": [
    "\"\"\"\n",
    "Lists can contain different types, e.g. strings, numbers, \n",
    "functions, lists, …\n",
    "\"\"\"\n",
    "\n",
    "my_list = ['Welcome', 'to', 'Python']  # adds three string elements to the list\n",
    "print(my_list[0])  # Welcome\n",
    "print(my_list[1])  # to\n",
    "\n",
    "print(my_list)  # [‘Welcome', 'to', ‘Python']\n",
    "\n",
    "# using for loop to iterate all elements in the list:\n",
    "for word in my_list:  # word we choose randomly, any other name works too\n",
    "    print(word)"
   ]
  },
  {
   "cell_type": "code",
   "execution_count": null,
   "metadata": {
    "colab": {
     "base_uri": "https://localhost:8080/"
    },
    "id": "0jsRI4u8jmGE",
    "outputId": "7b705bae-b03f-4630-a5ba-c2226eeca8c9"
   },
   "outputs": [],
   "source": [
    "\"\"\"\n",
    "Functions can help when working with lists.\n",
    "\"\"\"\n",
    "\n",
    "# to print it out in one line we need to apply the fct join() to our list:\n",
    "list_as_sentence = '*'.join(my_list)  # sets * as separators\n",
    "print(list_as_sentence)  # Welcome*to*Python\n",
    "\n",
    "list_as_sentence = ' '.join(my_list)  # sets white spaces as separators\n",
    "print(list_as_sentence)  # Welcome to Python\n",
    "\n",
    "# Try to execute this code and see what happens.\n",
    "list_sliced = list_as_sentence[0:12]  # slices string by indices\n",
    "print(f'{list_sliced}.')  # Welcome to P.\n",
    "\n",
    "# Try changing the indices to negative.\n",
    "\n",
    "sentence_big = list_as_sentence.upper()\n",
    "print(sentence_big)  # WELCOME TO PYTHON"
   ]
  },
  {
   "cell_type": "markdown",
   "metadata": {
    "id": "IFyIikZxkEYF"
   },
   "source": [
    "### **Operations**"
   ]
  },
  {
   "cell_type": "code",
   "execution_count": null,
   "metadata": {
    "colab": {
     "base_uri": "https://localhost:8080/"
    },
    "id": "Gl3ZVMX6kILi",
    "outputId": "f92076aa-74ed-4fc3-938e-82fb5470a289"
   },
   "outputs": [],
   "source": [
    "\"\"\"\n",
    "Checking for possible operations: \n",
    "\"\"\"\n",
    "\n",
    "# by using dir() function, or help() function; you may see all ops on the str object\n",
    "dir(str)"
   ]
  },
  {
   "cell_type": "code",
   "execution_count": null,
   "metadata": {
    "colab": {
     "base_uri": "https://localhost:8080/"
    },
    "id": "5t9BXEUVkYR0",
    "outputId": "1a39e571-0750-4068-decd-b014f9cf5e1c"
   },
   "outputs": [],
   "source": [
    "# or a str instance\n",
    "dir(sentence_big)"
   ]
  },
  {
   "cell_type": "code",
   "execution_count": null,
   "metadata": {
    "colab": {
     "base_uri": "https://localhost:8080/"
    },
    "id": "tS1LGTCQkaqk",
    "outputId": "0964425a-8d26-42c7-9782-d3d141b0e19d"
   },
   "outputs": [],
   "source": [
    "# likewise,\n",
    "help(str)"
   ]
  },
  {
   "cell_type": "markdown",
   "metadata": {
    "id": "wpDntIf0keNL"
   },
   "source": [
    "### **Dictionaries**"
   ]
  },
  {
   "cell_type": "code",
   "execution_count": null,
   "metadata": {
    "colab": {
     "base_uri": "https://localhost:8080/"
    },
    "id": "2Z8gLOGykjLX",
    "outputId": "2037e39a-18da-4dd5-f6be-5dced80d1a2e"
   },
   "outputs": [],
   "source": [
    "\"\"\"\n",
    "Dictionaries are used to store data values in key:value pairs. A dictionary is a collection which is unordered, changeable and does not allow duplicates. \n",
    "\"\"\"\n",
    "\n",
    "course = dict(name='DEDA', unit=0)  # {'name': 'DEDA', 'unit': 0}\n",
    "print(course)\n",
    "course = {'name': 'DEDA', 'unit': 0}  # alternative\n",
    "print(course)\n",
    "# accessing\n",
    "print(course['unit'])  # 0\n",
    "\n",
    "# assigning\n",
    "course['unit'] = 1\n",
    "print(course['unit']) \n",
    "\n",
    "# get keys\n",
    "print(course.keys())  # ['name', 'unit']\n",
    "print(course.values())  # ['DEDA', 1]\n",
    "\n",
    "# adding values\n",
    "course.update({'lecturers': ['Chen', 'Härdle']})\n",
    "# {'name': 'DEDA', 'unit': 1, 'lecturers': ['Chen', 'Härdle']}\n",
    "print(course)\n"
   ]
  },
  {
   "cell_type": "markdown",
   "metadata": {
    "id": "GPE4JLCflDIZ"
   },
   "source": [
    "### **If/elif/else**"
   ]
  },
  {
   "cell_type": "code",
   "execution_count": null,
   "metadata": {
    "colab": {
     "base_uri": "https://localhost:8080/"
    },
    "id": "70168J6Kl6Av",
    "outputId": "c09368de-295e-418a-a8ff-4ea19c24a419"
   },
   "outputs": [],
   "source": [
    "\"\"\"\n",
    "Control Flow Tools: if/elif/else. \n",
    "Comparison statements can be used. \n",
    "\"\"\"\n",
    "\n",
    "x = 10  # initialising a numeric variable x\n",
    "\n",
    "if x < 0:  # checking for the value of x\n",
    "    print('Negative Value')  # note the four additional level of indentation (4 spaces)\n",
    "elif x == 0:\n",
    "    print('Zero')\n",
    "else:\n",
    "    print('Positive Value')"
   ]
  },
  {
   "cell_type": "code",
   "execution_count": null,
   "metadata": {
    "colab": {
     "base_uri": "https://localhost:8080/"
    },
    "id": "J6kfSQoYlo4v",
    "outputId": "cda17497-7dff-4043-b890-e36e0c14b21a"
   },
   "outputs": [],
   "source": [
    "\"\"\"\n",
    "Control Flow Tools: if/elif/else\n",
    "\"\"\"\n",
    "\n",
    "# Conditions can be combined or altered with: and, or, not, is, is not\n",
    "p = [2, 3, 5, 7, 11]  # initialising a list p\n",
    "print(p)\n",
    "print(3 in p)  # True\n",
    "print(3 in p and 4 in p)  # False\n",
    "print(3 in p or 4 in p)  # True\n",
    "\n",
    "# Empty/Missing Values can be initialised by the term “None”\n",
    "y = None  # initialising an empty variable x\n",
    "\n",
    "if y is not None:  # alternatively: if not y is None: ….\n",
    "    print('Value is not None')\n",
    "else:\n",
    "    print('Value is None')\n"
   ]
  },
  {
   "cell_type": "markdown",
   "metadata": {
    "id": "dRL0wvOMmDp7"
   },
   "source": [
    "### **For loop**"
   ]
  },
  {
   "cell_type": "code",
   "execution_count": null,
   "metadata": {
    "colab": {
     "base_uri": "https://localhost:8080/"
    },
    "id": "sZMKKlOTmGja",
    "outputId": "33a82727-bacc-42f8-a5b9-e6a29a188387"
   },
   "outputs": [],
   "source": [
    "\"\"\"\n",
    "For Loop can iterate over all elements. The i is a self-chosen variable to use to represent the current increment in a loop. \n",
    "\"\"\"\n",
    "\n",
    "l = list([1, 2, 3, 4, 5])\n",
    "for i in l:\n",
    "    print(i * 2, end=' ')  # output: 2 4 6 8 10\n",
    "\n",
    "for i in range(6):  # iterates from 0 to 5\n",
    "    if i == 3:\n",
    "        continue  # skip 3*2 in output\n",
    "    print(i * 2, end=' ')  # output:  0 2 4 8 10\n",
    "\n",
    "for i in 'DEDA':\n",
    "    print(i, end=' ')  # output: D E D A\n",
    "\n",
    "d = dict(a=1, b=2)\n",
    "for k, v in d.items():\n",
    "    print('\\n{} has value {}'.format(k, v))\n",
    "# a has value 1\n",
    "# b has value 2\n"
   ]
  },
  {
   "cell_type": "markdown",
   "metadata": {
    "id": "C76kOxCJmqh-"
   },
   "source": [
    "### **While eloop**"
   ]
  },
  {
   "cell_type": "code",
   "execution_count": null,
   "metadata": {
    "colab": {
     "base_uri": "https://localhost:8080/"
    },
    "id": "gVNA4rYcmt4G",
    "outputId": "40ef8f75-559b-4344-aa4b-7e402123d3c9"
   },
   "outputs": [],
   "source": [
    "\"\"\"\n",
    "With the while loop we can execute a set of statements as long as a condition is true. ATTENTION: Make sure not to have infinite loop (loop with tautology in condition).\n",
    "\"\"\"\n",
    "\n",
    "# Fibonacci series: sum of two preceding numbers defines next number\n",
    "a, b = 0, 1\n",
    "while b < 100:\n",
    "    print(b, end=' ')\n",
    "    a, b = b, b + a\n",
    "# 1 1 2 3 5 8 13 21 34 55 89"
   ]
  },
  {
   "cell_type": "code",
   "execution_count": null,
   "metadata": {
    "colab": {
     "base_uri": "https://localhost:8080/"
    },
    "id": "ooLsTNF2mw3u",
    "outputId": "019d7d6d-3291-49cd-c994-9ae45424e327"
   },
   "outputs": [],
   "source": [
    "\"\"\"\n",
    "The < break > statement in Python terminates the current loop and resumes execution at the next statement.\n",
    "\"\"\"\n",
    "\n",
    "fib = [0, 1]  # a list called fib\n",
    "while True:\n",
    "    # appends the sum of the last 2 elements of our list to our new list\n",
    "    fib.append(sum(fib[-2:]))\n",
    "    if fib[-1] > 100:\n",
    "        break\n",
    "print(fib)  # [0, 1, 1, 2, 3, 5, 8, 13, 21, 34, 55, 89, 144]"
   ]
  },
  {
   "cell_type": "markdown",
   "metadata": {
    "id": "HDplqWHpm4r1"
   },
   "source": [
    "### **Functions**"
   ]
  },
  {
   "cell_type": "code",
   "execution_count": null,
   "metadata": {
    "colab": {
     "base_uri": "https://localhost:8080/"
    },
    "id": "8RhWd4Dzm8Uc",
    "outputId": "9b7c2b3d-8982-4481-9c4a-7de72fa1cc88"
   },
   "outputs": [],
   "source": [
    "\"\"\"\n",
    "Define your own function using def, followed by a name, parameters in parentheses (), a colon, and a block of code.\n",
    "\"\"\"\n",
    "\n",
    "def my_first_fct():\n",
    "    print('This is my first function.')  # remember the four indentation\n",
    "\n",
    "my_first_fct()  # call the function\n",
    "\n",
    "# another function with two parameter m and n\n",
    "def my_second_fct(m, n):\n",
    "    mn = m % n\n",
    "    return print(f'The remainder of the devision of {m} by {n} is {mn}.')\n",
    "\n",
    "my_second_fct(4, 3)  # call the function and pass the variables m = 4 and n = 3\n",
    "my_second_fct(7, 2)  # call the function again and pass other variables\n"
   ]
  },
  {
   "cell_type": "code",
   "execution_count": null,
   "metadata": {
    "colab": {
     "base_uri": "https://localhost:8080/"
    },
    "id": "8N1knITonBni",
    "outputId": "4a2cd79e-7839-4218-bef2-e052202c3287"
   },
   "outputs": [],
   "source": [
    "\"\"\"\n",
    "Another example for functions\n",
    "\"\"\"\n",
    "\n",
    "def square_numeric(x):  # Squares numeric x\n",
    "    return x ** 2\n",
    "\n",
    "def square_iterable(x):  # Squares numerics in iterable x\n",
    "    list = []\n",
    "    for i in x:\n",
    "        list.append(square_numeric(i))\n",
    "    return list\n",
    "\n",
    "def square_iterabel_short(x):  # Squares numerics in iterable x\n",
    "    return [square_numeric(i) for i in x]\n",
    "\n",
    "x = [1, 2, 3, 4, 5]\n",
    "square_iterable(x)  # [1, 4, 9, 16, 25]\n",
    "square_iterabel_short(x)  # [1, 4, 9, 16, 25]\n"
   ]
  },
  {
   "cell_type": "markdown",
   "metadata": {
    "id": "EEhFN687npXg"
   },
   "source": [
    "# **Application 1: Wiggling Elephant Trunk**"
   ]
  },
  {
   "cell_type": "markdown",
   "metadata": {
    "id": "YwZqvOYDnxpd"
   },
   "source": [
    "Wiggling Elephant Trunk:\n",
    "\n",
    "vonNeuman_elephant.py\n",
    "    \"With four parameters I can fit an elephant,\n",
    "       and with five I can make him wiggle his trunk.\"\n",
    "\n",
    "\n",
    "Original Versions:\n",
    "\n",
    "    Author[1]: Piotr A. Zolnierczuk (zolnierczukp at ornl dot gov)\n",
    "    Retrieved on 14 September 2011 from\n",
    "    http://www.johndcook.com/blog/2011/06/21/how-to-fit-an-elephant/\n",
    "\n",
    "Modified to wiggle trunk:\n",
    "\n",
    "    2 October 2011 by David Bailey (http://www.physics.utoronto.ca/~dbailey)\n",
    "    Author[2]:\n",
    "    Advanced Physics Laboratory\n",
    "    https://www.physics.utoronto.ca/~phy326/python/\n",
    "Based on the paper:\n",
    "\n",
    "    \"Drawing an elephant with four complex parameters\", by\n",
    "    Jurgen Mayer, Khaled Khairy, and Jonathon Howard,\n",
    "    Am. J. Phys. 78, 648 (2010), DOI:10.1119/1.3254017\n",
    "  The paper does not specify how the wiggle parameter controls the\n",
    "  trunk, so a guess was made.\n",
    "\n",
    "Inspired by John von Neumann's famous quote (above) about overfitting data.\n",
    "\n",
    "    Attributed to von Neumann by Enrico Fermi, as quoted by\n",
    "    Freeman Dyson in \"A meeting with Enrico Fermi\" in\n",
    "    Nature 427 (22 January 2004) p. 297\n",
    "\n",
    "Python Version: 3.6\n",
    "\n",
    "Modified based on author[2]'s work\n",
    "\n",
    "Author: Junjie Hu\n",
    "\n",
    "Overfiting problem in trading strategy stated:\n",
    "\n",
    "    Bailey, D., Borwein, J., Lopez de Prado, M., & Zhu, Q. (2014).\n",
    "    Pseudo-mathematics and financial charlatanism: The effects of backtest overfitting on out-of-sample performance.\n"
   ]
  },
  {
   "cell_type": "code",
   "execution_count": 2,
   "metadata": {
    "colab": {
     "base_uri": "https://localhost:8080/",
     "height": 302
    },
    "id": "Ey4cT7Odnt-b",
    "outputId": "fb901fd7-8e13-465e-ca3c-ea9124648ad5"
   },
   "outputs": [
    {
     "data": {
      "image/png": "[encoded data removed]",
      "text/plain": [
       "<Figure size 640x480 with 1 Axes>"
      ]
     },
     "metadata": {},
     "output_type": "display_data"
    }
   ],
   "source": [
    "import matplotlib\n",
    "# matplotlib.use('TKAgg')\n",
    "from matplotlib import animation\n",
    "from numpy import append, cos, linspace, pi, sin, zeros\n",
    "import matplotlib.pyplot as plt\n",
    "from IPython.display import HTML\n",
    "\n",
    "# PLEASE NOTE IN SPYDER YOU SHOULD DISABLE THE ACTIVE SUPPORT in PREFs\n",
    "# elephant parameters\n",
    "parameters = [10 - 25j, 30 + 5j, 12 - 10j, -14 - 60j, 20 + 20j]\n",
    "\n",
    "# patrick's happy spermwhale\n",
    "# parameters = [30 - 10j, 20 + 20j, 40 + 10j, 20 - 50j, -40 + 10j]\n",
    "\n",
    "# philipp's flying swan \n",
    "# parameters = [1 - 2j, 9 + 9j, 1 - 2j, 9 + 9j, 0 + 0j]\n",
    "\n",
    "# kathrin's hungry animal \n",
    "# parameters = [50 - 50j, 30 + 10j, 5 - 2j, -5 - 6j, 20 + 20j]\n",
    "\n",
    "# anna’s happy hippo\n",
    "# parameters = [50 - 15j, 5 + 2j, -10 - 10j, -14 - 60j, 5 + 30j]\n",
    "\n",
    "# fabio’s bird with right wing paralysis\n",
    "# parameters = [50 - 15j, 5 + 2j, -1 - 5j, -14 - 60j, 18 - 40j]\n",
    "\n",
    "# for pea shooter see code below \n",
    "\n",
    "def fourier(t, C):\n",
    "    f = zeros(t.shape)\n",
    "    for k in range(len(C)):\n",
    "        f += C.real[k] * cos(k * t) + C.imag[k] * sin(k * t)\n",
    "    return f\n",
    "\n",
    "\n",
    "def elephant(t, p):\n",
    "    npar = 6\n",
    "\n",
    "    Cx = zeros((npar,), dtype='complex')\n",
    "    Cy = zeros((npar,), dtype='complex')\n",
    "\n",
    "    Cx[1] = p[0].real * 1j\n",
    "    Cy[1] = p[3].imag + p[0].imag * 1j\n",
    "\n",
    "    Cx[2] = p[1].real * 1j\n",
    "    Cy[2] = p[1].imag * 1j\n",
    "\n",
    "    Cx[3] = p[2].real\n",
    "    Cy[3] = p[2].imag * 1j\n",
    "\n",
    "    Cx[5] = p[3].real\n",
    "\n",
    "    x = append(fourier(t, Cy), [p[4].real])\n",
    "    y = -append(fourier(t, Cx), [-p[4].imag])\n",
    "\n",
    "    return x, y\n",
    "\n",
    "\n",
    "def init_plot():\n",
    "    # draw the body of the elephant & create trunk\n",
    "    x, y = elephant(linspace(2.9 * pi, 0.4 + 3.3 * pi, 1000), parameters)\n",
    "    for ii in range(len(y) - 1):\n",
    "        y[ii] -= sin(((x[ii] - x[0]) * pi / len(y))) * sin(float(0)) * parameters[4].real\n",
    "    trunk.set_data(x, y)\n",
    "    return trunk,\n",
    "\n",
    "\n",
    "def move_trunk(i):\n",
    "    x, y = elephant(linspace(2.9 * pi, 0.4 + 3.3 * pi, 1000), parameters)\n",
    "    # move trunk to new position (but don't move eye stored at end or array)\n",
    "    for ii in range(len(y) - 1):\n",
    "        y[ii] -= sin(((x[ii] - x[0]) * pi / len(y))) * sin(float(i)) * parameters[4].real\n",
    "    trunk.set_data(x, y)\n",
    "    return trunk,\n",
    "\n",
    "\n",
    "fig, ax = plt.subplots()\n",
    "# initial the elephant body\n",
    "x, y = elephant(t=linspace(0.1 + 1.3 * pi, 2.9 * pi, 1000), p=parameters)\n",
    "plt.plot(x, y, 'b.')\n",
    "plt.xlim([-75, 90])\n",
    "plt.ylim([-70, 87])\n",
    "plt.axis('off')\n",
    "trunk, = ax.plot([], [], 'b.')  # initialize trunk\n",
    "\n",
    "ani = animation.FuncAnimation(fig=fig,\n",
    "                              func=move_trunk,\n",
    "                              frames=1000,\n",
    "                              init_func=init_plot,\n",
    "                              interval=100,\n",
    "                              blit=False,\n",
    "                              repeat=True)\n",
    "\n",
    "ani\n",
    "HTML(ani.to_html5_video())\n",
    "\n",
    "\n",
    "# Uncomment if you would like to save video externally\n",
    "Writer = animation.writers['ffmpeg']\n",
    "metadata = dict(title='Elephant Trunk Wiggling', artist='Jenny Bethäuser')\n",
    "writer = Writer(fps=30, metadata=metadata, bitrate=1800)\n",
    "ani.save(filename='bulldog_trunk_wiggle.mp4', writer=writer)\n",
    "plt.show()\n"
   ]
  },
  {
   "cell_type": "markdown",
   "metadata": {
    "id": "JesUzJLnoYsp"
   },
   "source": [
    "# **Application 2: Wentian’s Pea Shooter**"
   ]
  },
  {
   "cell_type": "markdown",
   "metadata": {
    "id": "7SP9gZQOossa"
   },
   "source": [
    "Wentian’s pea shooter:\n",
    "\n",
    "vonNeuman_elephant.py\n",
    "\n",
    "    \"With four parameters I can fit an elephant,\n",
    "    and with five I can make him wiggle his trunk.\"\n",
    "\n",
    "Original Versions:\n",
    "\n",
    "    Author[1]: Piotr A. Zolnierczuk (zolnierczukp at ornl dot gov)\n",
    "    Retrieved on 14 September 2011 from\n",
    "    http://www.johndcook.com/blog/2011/06/21/how-to-fit-an-elephant/\n",
    "\n",
    "Modified to wiggle trunk:\n",
    "\n",
    "    2 October 2011 by David Bailey (http://www.physics.utoronto.ca/~dbailey)\n",
    "    Author[2]:\n",
    "    Advanced Physics Laboratory\n",
    "    https://www.physics.utoronto.ca/~phy326/python/\n",
    "\n",
    "Based on the paper:\n",
    "\n",
    "    \"Drawing an elephant with four complex parameters\", by\n",
    "    Jurgen Mayer, Khaled Khairy, and Jonathon Howard,\n",
    "    Am. J. Phys. 78, 648 (2010), DOI:10.1119/1.3254017\n",
    "The paper does not specify how the wiggle parameter controls the\n",
    "trunk, so a guess was made.\n",
    "\n",
    "Inspired by John von Neumann's famous quote (above) about overfitting data.\n",
    "    Attributed to von Neumann by Enrico Fermi, as quoted by\n",
    "    Freeman Dyson in \"A meeting with Enrico Fermi\" in\n",
    "    Nature 427 (22 January 2004) p. 297\n",
    "      \n",
    "Python Version: 3.6\n",
    "\n",
    "Modified based on author[2]'s work\n",
    "\n",
    "Author: Junjie Hu\n",
    "\n",
    "Overfiting problem in trading strategy stated:\n",
    "\n",
    "    Bailey, D., Borwein, J., Lopez de Prado, M., & Zhu, Q. (2014).\n",
    "    Pseudo-mathematics and financial charlatanism: The effects of backtest overfitting on out-of-sample performance.\n",
    "\"\"\""
   ]
  },
  {
   "cell_type": "code",
   "execution_count": null,
   "metadata": {
    "colab": {
     "base_uri": "https://localhost:8080/",
     "height": 248
    },
    "id": "U9JNu5PiopxD",
    "outputId": "2fd58c1c-eed2-4cfd-9f5b-0e2e097bc8ef"
   },
   "outputs": [],
   "source": [
    "# for peashooter: \n",
    "\n",
    "# import matplotlib\n",
    "# matplotlib.use('TKAgg')\n",
    "\"\"\"\n",
    "you might want to use the following in terminal if the graphviz does not work:\n",
    "conda install -c conda-forge ffmpeg\n",
    "All should be fine though if you use jupyter notebook\n",
    "\"\"\"\n",
    "\n",
    "from matplotlib import animation\n",
    "from numpy import append, cos, linspace, pi, sin, zeros\n",
    "import matplotlib.pyplot as plt\n",
    "\n",
    "\n",
    "parameters = [50 - 50j, 18 + 80j, 12 - 10j, -14 - 60j, 20 + 20j]\n",
    "\n",
    "\n",
    "def fourier(t, C):\n",
    "    f = zeros(t.shape)\n",
    "    for k in range(len(C)):\n",
    "        f += C.real[k] * cos(k * t) + C.imag[k] * sin(k * t)\n",
    "    return f\n",
    "\n",
    "\n",
    "def peashooter(t, p):\n",
    "    npar = 6\n",
    "\n",
    "    Cx = zeros((npar,), dtype='complex')\n",
    "    Cy = zeros((npar,), dtype='complex')\n",
    "\n",
    "    Cx[1] = p[0].real * 1j\n",
    "    Cy[1] = p[3].imag + p[0].imag * 1j\n",
    "\n",
    "    Cx[2] = p[1].real * 1j\n",
    "    Cy[2] = p[1].imag * 1j\n",
    "\n",
    "    Cx[3] = p[2].real\n",
    "    Cy[3] = p[2].imag * 1j\n",
    "\n",
    "    Cx[5] = p[3].real\n",
    "\n",
    "    x = append(fourier(t, Cy), [p[4].real])\n",
    "    y = -append(fourier(t, Cx), [-p[4].imag])\n",
    "\n",
    "    return x, y\n",
    "\n",
    "\n",
    "def init_plot():\n",
    "    x, y = peashooter(linspace(2 * pi + 0.9 * pi, 0.4 + 3.3 * pi, 1000), parameters)\n",
    "    for ii in range(len(y) - 1):\n",
    "        y[ii] -= sin(((x[ii] - x[0]) * pi / len(y))) * sin(float(0)) * parameters[4].real\n",
    "    trunk.set_data(x, y)\n",
    "    return trunk,\n",
    "\n",
    "\n",
    "def move_trunk(i):\n",
    "    x, y = peashooter(linspace(2 * pi + 0.8 * pi, 0.4 + 3.7 * pi, 1000), parameters)\n",
    "    for ii in range(len(y) - 1):\n",
    "        y[ii] -= sin(((x[ii] - x[0]) * pi / len(y))) * sin(float(i)) * parameters[4].real\n",
    "    trunk.set_data(x, y)\n",
    "    return trunk,\n",
    "\n",
    "\n",
    "fig, ax = plt.subplots()\n",
    "x, y = peashooter(t=linspace(0.4 + 1.7 * pi, 2 * pi + 0.8 * pi, 1000), p=parameters)\n",
    "plt.plot(x, y, 'b.')\n",
    "plt.xlim([-175, 190])\n",
    "plt.ylim([-70, 100])\n",
    "plt.axis('off')\n",
    "trunk, = ax.plot([], [], 'b.') \n",
    "\n",
    "ani = animation.FuncAnimation(fig=fig,\n",
    "                              func=move_trunk,\n",
    "                              frames=1000,\n",
    "                              init_func=init_plot,\n",
    "                              interval=500,\n",
    "                              blit=False,\n",
    "                              repeat=True)\n",
    "\n",
    "\n",
    "# Video will be externally saved\n",
    "Writer = animation.writers['ffmpeg']\n",
    "metadata = dict(title='Wentians pea shooter')\n",
    "writer = Writer(fps=30, metadata=metadata, bitrate=1800)\n",
    "ani.save(filename='peashooter.mp4', writer=writer)\n",
    "# plt.show()"
   ]
  }
 ],
 "metadata": {
  "colab": {
   "collapsed_sections": [],
   "name": "DEDA_Introduction_pn.ipynb",
   "provenance": []
  },
  "kernelspec": {
   "display_name": "Python 3 (ipykernel)",
   "language": "python",
   "name": "python3"
  },
  "language_info": {
   "codemirror_mode": {
    "name": "ipython",
    "version": 3
   },
   "file_extension": ".py",
   "mimetype": "text/x-python",
   "name": "python",
   "nbconvert_exporter": "python",
   "pygments_lexer": "ipython3",
   "version": "3.11.3"
  }
 },
 "nbformat": 4,
 "nbformat_minor": 1
}
